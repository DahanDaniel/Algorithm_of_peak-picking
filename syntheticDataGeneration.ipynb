{
  "cells": [
    {
      "cell_type": "code",
      "execution_count": 47,
      "metadata": {
        "id": "IkPdr8YQUGml"
      },
      "outputs": [],
      "source": [
        "# !pip list"
      ]
    },
    {
      "cell_type": "code",
      "execution_count": 48,
      "metadata": {
        "colab": {
          "base_uri": "https://localhost:8080/"
        },
        "id": "sqHyBhG8FWk5",
        "outputId": "4fc35091-4e00-43f7-f857-69646e31f971"
      },
      "outputs": [],
      "source": [
        "# !git clone https://github.com/DahanDaniel/Algorithm_of_peak-picking.git"
      ]
    },
    {
      "cell_type": "code",
      "execution_count": 49,
      "metadata": {
        "id": "AYFQsvakTJ4i"
      },
      "outputs": [],
      "source": [
        "import copy\r\n",
        "from sys import exit\r\n",
        "\r\n",
        "import numpy as np\r\n",
        "\r\n",
        "from RadonClass import *"
      ]
    },
    {
      "cell_type": "code",
      "execution_count": 50,
      "metadata": {
        "id": "zG2C3gjkLAKG"
      },
      "outputs": [],
      "source": [
        "NO_SERIES  = 20\n",
        "RESOLUTION = 2**8 # number of points describing spectra\n",
        "\n",
        "DWMIN, DWMAX, DDW = -10, 10, .01 # Domain of rates of change\n",
        "\n",
        "MAX_NO_PEAKS = 10"
      ]
    },
    {
      "cell_type": "code",
      "execution_count": 51,
      "metadata": {
        "id": "lSJI4ha4G_vF"
      },
      "outputs": [],
      "source": [
        "def create_random_data(max_no_peaks):\r\n",
        "    N = np.random.randint(1, max_no_peaks+1)\r\n",
        "    amplitudes = np.random.uniform(0.1, 10, N)\r\n",
        "    frequencies = np.random.uniform(0, RESOLUTION, N)\r\n",
        "    damping_coeffs = np.random.uniform(0.1, 10, N)\r\n",
        "    speeds = np.random.uniform(-10, 10, N)\r\n",
        "\r\n",
        "    snr = np.random.uniform(10, 100)\r\n",
        "\r\n",
        "    params = Params(amplitudes, frequencies, damping_coeffs, speeds,\r\n",
        "                    NO_SERIES, RESOLUTION, snr)\r\n",
        "    print(params)\r\n",
        "\r\n",
        "    radon_instance = Radon(params, DWMIN, DWMAX, DDW, 'Params')\r\n",
        "\r\n",
        "    return radon_instance"
      ]
    },
    {
      "cell_type": "code",
      "execution_count": 52,
      "metadata": {
        "id": "1rxnvGqHKHdv"
      },
      "outputs": [],
      "source": [
        "def main():\n",
        "   a = create_random_data(MAX_NO_PEAKS)\n",
        "   a.plot_real(title='Simulated Spectra')"
      ]
    },
    {
      "cell_type": "code",
      "execution_count": 53,
      "metadata": {
        "colab": {
          "base_uri": "https://localhost:8080/",
          "height": 559
        },
        "id": "5Zi6qE72KSPC",
        "outputId": "1bef551a-c200-445c-e330-d5791666e44d"
      },
      "outputs": [
        {
          "name": "stdout",
          "output_type": "stream",
          "text": [
            "amplitudes: [7.36581635 2.37636212 3.05942441 5.64419987 6.07822713]\n",
            "frequencies: [  6.97752662 152.62753379 221.29841282 113.21825776 231.38555204]\n",
            "damping_coeffs: [5.07336212 0.9542608  5.44959807 0.800955   3.54165438]\n",
            "speeds: [ 2.49593816 -0.39214616 -4.58523269 -4.08880686 -2.23710161]\n",
            "number of series: 20\n",
            "resolution: 256 points\n",
            "snr: 98.72548092232128\n",
            "\n",
            "amplitudes: [7.36581635 2.37636212 3.05942441 5.64419987 6.07822713]\n",
            "frequencies: [  6.97752662 152.62753379 221.29841282 113.21825776 231.38555204]\n",
            "damping_coeffs: [5.07336212 0.9542608  5.44959807 0.800955   3.54165438]\n",
            "speeds: [ 2.49593816 -0.39214616 -4.58523269 -4.08880686 -2.23710161]\n",
            "number of series: 20\n",
            "resolution: 256 points\n",
            "snr: 98.72548092232128\n",
            "\n"
          ]
        },
        {
          "ename": "AttributeError",
          "evalue": "'Params' object has no attribute 'A'",
          "output_type": "error",
          "traceback": [
            "\u001b[1;31m---------------------------------------------------------------------------\u001b[0m",
            "\u001b[1;31mAttributeError\u001b[0m                            Traceback (most recent call last)",
            "\u001b[1;32m<ipython-input-53-4be4dd58a851>\u001b[0m in \u001b[0;36m<module>\u001b[1;34m\u001b[0m\n\u001b[0;32m      1\u001b[0m \u001b[1;32mif\u001b[0m \u001b[0m__name__\u001b[0m\u001b[1;33m==\u001b[0m\u001b[1;34m'__main__'\u001b[0m\u001b[1;33m:\u001b[0m\u001b[1;33m\u001b[0m\u001b[1;33m\u001b[0m\u001b[0m\n\u001b[1;32m----> 2\u001b[1;33m     \u001b[0mmain\u001b[0m\u001b[1;33m(\u001b[0m\u001b[1;33m)\u001b[0m\u001b[1;33m\u001b[0m\u001b[1;33m\u001b[0m\u001b[0m\n\u001b[0m",
            "\u001b[1;32m<ipython-input-52-fabf53794d03>\u001b[0m in \u001b[0;36mmain\u001b[1;34m()\u001b[0m\n\u001b[0;32m      1\u001b[0m \u001b[1;32mdef\u001b[0m \u001b[0mmain\u001b[0m\u001b[1;33m(\u001b[0m\u001b[1;33m)\u001b[0m\u001b[1;33m:\u001b[0m\u001b[1;33m\u001b[0m\u001b[1;33m\u001b[0m\u001b[0m\n\u001b[1;32m----> 2\u001b[1;33m    \u001b[0ma\u001b[0m \u001b[1;33m=\u001b[0m \u001b[0mcreate_random_data\u001b[0m\u001b[1;33m(\u001b[0m\u001b[0mMAX_NO_PEAKS\u001b[0m\u001b[1;33m)\u001b[0m\u001b[1;33m\u001b[0m\u001b[1;33m\u001b[0m\u001b[0m\n\u001b[0m\u001b[0;32m      3\u001b[0m    \u001b[0ma\u001b[0m\u001b[1;33m.\u001b[0m\u001b[0mplot_real\u001b[0m\u001b[1;33m(\u001b[0m\u001b[0mtitle\u001b[0m\u001b[1;33m=\u001b[0m\u001b[1;34m'Simulated Spectra'\u001b[0m\u001b[1;33m)\u001b[0m\u001b[1;33m\u001b[0m\u001b[1;33m\u001b[0m\u001b[0m\n",
            "\u001b[1;32m<ipython-input-51-575889e08955>\u001b[0m in \u001b[0;36mcreate_random_data\u001b[1;34m(max_no_peaks)\u001b[0m\n\u001b[0;32m     12\u001b[0m     \u001b[0mprint\u001b[0m\u001b[1;33m(\u001b[0m\u001b[0mparams\u001b[0m\u001b[1;33m)\u001b[0m\u001b[1;33m\u001b[0m\u001b[1;33m\u001b[0m\u001b[0m\n\u001b[0;32m     13\u001b[0m \u001b[1;33m\u001b[0m\u001b[0m\n\u001b[1;32m---> 14\u001b[1;33m     \u001b[0mradon_instance\u001b[0m \u001b[1;33m=\u001b[0m \u001b[0mRadon\u001b[0m\u001b[1;33m(\u001b[0m\u001b[0mparams\u001b[0m\u001b[1;33m,\u001b[0m \u001b[0mDWMIN\u001b[0m\u001b[1;33m,\u001b[0m \u001b[0mDWMAX\u001b[0m\u001b[1;33m,\u001b[0m \u001b[0mDDW\u001b[0m\u001b[1;33m,\u001b[0m \u001b[1;34m'Params'\u001b[0m\u001b[1;33m)\u001b[0m\u001b[1;33m\u001b[0m\u001b[1;33m\u001b[0m\u001b[0m\n\u001b[0m\u001b[0;32m     15\u001b[0m \u001b[1;33m\u001b[0m\u001b[0m\n\u001b[0;32m     16\u001b[0m     \u001b[1;32mreturn\u001b[0m \u001b[0mradon_instance\u001b[0m\u001b[1;33m\u001b[0m\u001b[1;33m\u001b[0m\u001b[0m\n",
            "\u001b[1;32mc:\\Users\\dahand\\OneDrive - Merck Sharp & Dohme, Corp\\desktop\\Python\\My_scripts\\Algorithm_of_peak-picking\\RadonClass.py\u001b[0m in \u001b[0;36m__init__\u001b[1;34m(self, Data, dwmin, dwmax, ddw, *args, **kwargs)\u001b[0m\n\u001b[0;32m    105\u001b[0m             \u001b[0mself\u001b[0m\u001b[1;33m.\u001b[0m\u001b[0mSpectra\u001b[0m \u001b[1;33m=\u001b[0m \u001b[0mnp\u001b[0m\u001b[1;33m.\u001b[0m\u001b[0mfft\u001b[0m\u001b[1;33m.\u001b[0m\u001b[0mfft\u001b[0m\u001b[1;33m(\u001b[0m\u001b[0mFID\u001b[0m\u001b[1;33m)\u001b[0m\u001b[1;33m\u001b[0m\u001b[1;33m\u001b[0m\u001b[0m\n\u001b[0;32m    106\u001b[0m             \u001b[0mself\u001b[0m\u001b[1;33m.\u001b[0m\u001b[0mn\u001b[0m \u001b[1;33m=\u001b[0m \u001b[0mnp\u001b[0m\u001b[1;33m.\u001b[0m\u001b[0mshape\u001b[0m\u001b[1;33m(\u001b[0m\u001b[0mself\u001b[0m\u001b[1;33m.\u001b[0m\u001b[0mSpectra\u001b[0m\u001b[1;33m)\u001b[0m\u001b[1;33m[\u001b[0m\u001b[1;36m1\u001b[0m\u001b[1;33m]\u001b[0m\u001b[1;33m\u001b[0m\u001b[1;33m\u001b[0m\u001b[0m\n\u001b[1;32m--> 107\u001b[1;33m             \u001b[0mself\u001b[0m\u001b[1;33m.\u001b[0m\u001b[0ms\u001b[0m \u001b[1;33m=\u001b[0m \u001b[0mnp\u001b[0m\u001b[1;33m.\u001b[0m\u001b[0mshape\u001b[0m\u001b[1;33m(\u001b[0m\u001b[0mself\u001b[0m\u001b[1;33m.\u001b[0m\u001b[0mSpectra\u001b[0m\u001b[1;33m)\u001b[0m\u001b[1;33m[\u001b[0m\u001b[1;36m0\u001b[0m\u001b[1;33m]\u001b[0m\u001b[1;33m\u001b[0m\u001b[1;33m\u001b[0m\u001b[0m\n\u001b[0m\u001b[0;32m    108\u001b[0m             \u001b[0mself\u001b[0m\u001b[1;33m.\u001b[0m\u001b[0mt\u001b[0m \u001b[1;33m=\u001b[0m \u001b[0mt\u001b[0m\u001b[1;33m\u001b[0m\u001b[1;33m\u001b[0m\u001b[0m\n\u001b[0;32m    109\u001b[0m \u001b[1;33m\u001b[0m\u001b[0m\n",
            "\u001b[1;31mAttributeError\u001b[0m: 'Params' object has no attribute 'A'"
          ]
        }
      ],
      "source": [
        "if __name__=='__main__':\n",
        "    main()"
      ]
    },
    {
      "cell_type": "code",
      "execution_count": null,
      "metadata": {
        "id": "9BtQO_ZiGScH"
      },
      "outputs": [],
      "source": []
    }
  ],
  "metadata": {
    "colab": {
      "collapsed_sections": [],
      "name": "syntheticDataGeneration.ipynb",
      "provenance": []
    },
    "kernelspec": {
      "display_name": "Python 3.8.5 64-bit ('ProgramData': virtualenv)",
      "name": "python385jvsc74a57bd0b3ba2566441a7c06988d0923437866b63cedc61552a5af99d1f4fb67d367b25f"
    },
    "language_info": {
      "codemirror_mode": {
        "name": "ipython",
        "version": 3
      },
      "file_extension": ".py",
      "mimetype": "text/x-python",
      "name": "python",
      "nbconvert_exporter": "python",
      "pygments_lexer": "ipython3",
      "version": "3.8.5"
    }
  },
  "nbformat": 4,
  "nbformat_minor": 0
}